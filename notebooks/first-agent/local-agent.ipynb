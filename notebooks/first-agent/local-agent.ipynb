{
 "cells": [
  {
   "cell_type": "code",
   "execution_count": null,
   "id": "a4fc7a0e",
   "metadata": {},
   "outputs": [],
   "source": [
    "import asyncio\n",
    "from agents import Agent, Runner, set_tracing_disabled\n",
    "from agents import OpenAIChatCompletionsModel\n",
    "from openai import AsyncOpenAI\n",
    "\n",
    "set_tracing_disabled(True)"
   ]
  },
  {
   "cell_type": "code",
   "execution_count": null,
   "id": "e51609c7",
   "metadata": {},
   "outputs": [],
   "source": [
    "local_client = AsyncOpenAI(\n",
    "    base_url=\"http://localhost:1234/v1\",\n",
    "    api_key='ollama'\n",
    "    )\n",
    "\n",
    "agent = Agent(\n",
    "    name = \"Assistat\",\n",
    "    instructions='You are a helpful assistant',\n",
    "    model=OpenAIChatCompletionsModel(\n",
    "        model='qwen/qwen3-4b-2507',\n",
    "        openai_client=local_client\n",
    "    )\n",
    ")\n",
    "\n",
    "async def main():\n",
    "    result = await Runner.run(agent, 'Write a haiku about recursion')\n",
    "    print(result.final_output)\n",
    "\n",
    "asyncio.run(main())"
   ]
  }
 ],
 "metadata": {
  "language_info": {
   "name": "python"
  }
 },
 "nbformat": 4,
 "nbformat_minor": 5
}
