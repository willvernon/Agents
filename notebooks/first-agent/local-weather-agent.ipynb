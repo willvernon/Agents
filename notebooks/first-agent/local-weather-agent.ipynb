{
 "cells": [
  {
   "cell_type": "code",
   "execution_count": 5,
   "id": "5d955cd6",
   "metadata": {},
   "outputs": [],
   "source": [
    "import asyncio\n",
    "\n",
    "from agents import Agent, Runner, function_tool, set_tracing_disabled\n",
    "from agents import OpenAIChatCompletionsModel\n",
    "from openai import AsyncOpenAI\n",
    "\n",
    "set_tracing_disabled(True)"
   ]
  },
  {
   "cell_type": "code",
   "execution_count": 6,
   "id": "6d023bf6",
   "metadata": {},
   "outputs": [
    {
     "name": "stdout",
     "output_type": "stream",
     "text": [
      "The weather in Tokyo is sunny.\n"
     ]
    }
   ],
   "source": [
    "@function_tool\n",
    "def get_weather(city: str) -> str:\n",
    "    return f\"The weather in {city} is sunny.\"\n",
    "\n",
    "\n",
    "local_client = AsyncOpenAI(base_url=\"http://localhost:1234/v1\", api_key=\"lms\")\n",
    "\n",
    "agent = Agent(\n",
    "    name=\"Weatherman\",\n",
    "    instructions=\"You are a helpful agent.\",\n",
    "    model=OpenAIChatCompletionsModel(\n",
    "        model=\"qwen/qwen3-4b-2507\", openai_client=local_client\n",
    "    ),\n",
    "    tools=[get_weather],\n",
    ")\n",
    "\n",
    "# Cell 2: Run the agent (no asyncio.run needed in Jupyter)\n",
    "result = await Runner.run(agent, input=\"What's the weather in Tokyo?\")\n",
    "print(result.final_output)\n",
    "# Output: The weather in Tokyo is sunny."
   ]
  },
  {
   "cell_type": "code",
   "execution_count": null,
   "id": "01a6aba6",
   "metadata": {},
   "outputs": [],
   "source": []
  }
 ],
 "metadata": {
  "kernelspec": {
   "display_name": "agents",
   "language": "python",
   "name": "python3"
  },
  "language_info": {
   "codemirror_mode": {
    "name": "ipython",
    "version": 3
   },
   "file_extension": ".py",
   "mimetype": "text/x-python",
   "name": "python",
   "nbconvert_exporter": "python",
   "pygments_lexer": "ipython3",
   "version": "3.13.7"
  }
 },
 "nbformat": 4,
 "nbformat_minor": 5
}
