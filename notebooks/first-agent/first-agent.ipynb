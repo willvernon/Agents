{
 "cells": [
  {
   "cell_type": "code",
   "execution_count": null,
   "id": "a50d3f41",
   "metadata": {},
   "outputs": [],
   "source": [
    "# from agents import Agent, Runner\n",
    "# from dotenv import load_dotenv\n",
    "# import os\n",
    "\n",
    "# # load_dotenv()\n",
    "# api_key = os.getenv('OPENAI_API_KEY')\n",
    "# os.environ[\"OPENAI_API_KEY\"] = api_key"
   ]
  },
  {
   "cell_type": "code",
   "execution_count": null,
   "id": "7682e936",
   "metadata": {},
   "outputs": [],
   "source": [
    "# agent = Agent(name=\"Assistant\", instructions='You are a hepful assistant')\n",
    "\n",
    "# result = Runner.run_sync(agent, 'Write a haiku about recursion in programming')\n",
    "# print(result.final_output)"
   ]
  },
  {
   "cell_type": "code",
   "execution_count": null,
   "id": "6212cbb7",
   "metadata": {},
   "outputs": [],
   "source": [
    "import asyncio\n",
    "from agents import Agent, Runner, set_tracing_disabled\n",
    "from agents import OpenAIChatCompletionsModel\n",
    "from openai import AsyncOpenAI\n",
    "\n",
    "set_tracing_disabled(True)\n",
    "\n",
    "local_client = AsyncOpenAI(base_url=\"http://localhost:1234/v1\", api_key=\"ollama\")\n",
    "\n",
    "agent = Agent(\n",
    "    name=\"Assistat\",\n",
    "    instructions=\"You are a helpful assistant\",\n",
    "    model=OpenAIChatCompletionsModel(\n",
    "        model=\"qwen/qwen3-4b-2507\", openai_client=local_client\n",
    "    ),\n",
    ")\n",
    "\n",
    "\n",
    "async def main():\n",
    "    result = await Runner.run(agent, \"Write a haiku about recursion\")\n",
    "    print(result.final_output)\n",
    "\n",
    "\n",
    "asyncio.run(main())"
   ]
  },
  {
   "cell_type": "code",
   "execution_count": null,
   "id": "3097bd44",
   "metadata": {},
   "outputs": [],
   "source": []
  }
 ],
 "metadata": {
  "kernelspec": {
   "display_name": "agents",
   "language": "python",
   "name": "python3"
  },
  "language_info": {
   "codemirror_mode": {
    "name": "ipython",
    "version": 3
   },
   "file_extension": ".py",
   "mimetype": "text/x-python",
   "name": "python",
   "nbconvert_exporter": "python",
   "pygments_lexer": "ipython3",
   "version": "3.10.18"
  }
 },
 "nbformat": 4,
 "nbformat_minor": 5
}
